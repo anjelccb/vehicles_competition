{
 "cells": [
  {
   "cell_type": "code",
   "execution_count": 1,
   "metadata": {},
   "outputs": [],
   "source": [
    "import pandas as pd\n",
    "import numpy as np"
   ]
  },
  {
   "cell_type": "code",
   "execution_count": 2,
   "metadata": {},
   "outputs": [],
   "source": [
    "cars_test = pd.read_csv(\"cars_test.csv.zip\")\n",
    "train = pd.read_csv(\"cars_train.csv.zip\")"
   ]
  },
  {
   "cell_type": "code",
   "execution_count": 3,
   "metadata": {},
   "outputs": [
    {
     "data": {
      "text/plain": [
       "(253073, 23)"
      ]
     },
     "execution_count": 3,
     "metadata": {},
     "output_type": "execute_result"
    }
   ],
   "source": [
    "cars_test.shape"
   ]
  },
  {
   "cell_type": "code",
   "execution_count": 4,
   "metadata": {},
   "outputs": [
    {
     "data": {
      "text/plain": [
       "(469992, 24)"
      ]
     },
     "execution_count": 4,
     "metadata": {},
     "output_type": "execute_result"
    }
   ],
   "source": [
    "train.shape"
   ]
  },
  {
   "cell_type": "code",
   "execution_count": 24,
   "metadata": {},
   "outputs": [
    {
     "data": {
      "text/html": [
       "<div>\n",
       "<style scoped>\n",
       "    .dataframe tbody tr th:only-of-type {\n",
       "        vertical-align: middle;\n",
       "    }\n",
       "\n",
       "    .dataframe tbody tr th {\n",
       "        vertical-align: top;\n",
       "    }\n",
       "\n",
       "    .dataframe thead th {\n",
       "        text-align: right;\n",
       "    }\n",
       "</style>\n",
       "<table border=\"1\" class=\"dataframe\">\n",
       "  <thead>\n",
       "    <tr style=\"text-align: right;\">\n",
       "      <th></th>\n",
       "      <th>Id</th>\n",
       "      <th>city</th>\n",
       "      <th>year</th>\n",
       "      <th>manufacturer</th>\n",
       "      <th>make</th>\n",
       "      <th>condition</th>\n",
       "      <th>cylinders</th>\n",
       "      <th>fuel</th>\n",
       "      <th>odometer</th>\n",
       "      <th>title_status</th>\n",
       "      <th>...</th>\n",
       "      <th>paint_color</th>\n",
       "      <th>lat</th>\n",
       "      <th>long</th>\n",
       "      <th>county_fips</th>\n",
       "      <th>county_name</th>\n",
       "      <th>state_fips</th>\n",
       "      <th>state_code</th>\n",
       "      <th>state_name</th>\n",
       "      <th>weather</th>\n",
       "      <th>price</th>\n",
       "    </tr>\n",
       "  </thead>\n",
       "  <tbody>\n",
       "    <tr>\n",
       "      <td>0</td>\n",
       "      <td>559327</td>\n",
       "      <td>baltimore</td>\n",
       "      <td>2006.0</td>\n",
       "      <td>NaN</td>\n",
       "      <td>Scion tc</td>\n",
       "      <td>excellent</td>\n",
       "      <td>4 cylinders</td>\n",
       "      <td>gas</td>\n",
       "      <td>190000.0</td>\n",
       "      <td>clean</td>\n",
       "      <td>...</td>\n",
       "      <td>blue</td>\n",
       "      <td>39.287000</td>\n",
       "      <td>-76.647600</td>\n",
       "      <td>24510.0</td>\n",
       "      <td>Baltimore City</td>\n",
       "      <td>24.0</td>\n",
       "      <td>MD</td>\n",
       "      <td>Maryland</td>\n",
       "      <td>56.0</td>\n",
       "      <td>3200</td>\n",
       "    </tr>\n",
       "    <tr>\n",
       "      <td>1</td>\n",
       "      <td>1429566</td>\n",
       "      <td>carbondale</td>\n",
       "      <td>2018.0</td>\n",
       "      <td>dodge</td>\n",
       "      <td>charger sxt</td>\n",
       "      <td>NaN</td>\n",
       "      <td>NaN</td>\n",
       "      <td>gas</td>\n",
       "      <td>NaN</td>\n",
       "      <td>clean</td>\n",
       "      <td>...</td>\n",
       "      <td>NaN</td>\n",
       "      <td>37.720000</td>\n",
       "      <td>-89.215800</td>\n",
       "      <td>17077.0</td>\n",
       "      <td>Jackson</td>\n",
       "      <td>17.0</td>\n",
       "      <td>IL</td>\n",
       "      <td>Illinois</td>\n",
       "      <td>48.0</td>\n",
       "      <td>30620</td>\n",
       "    </tr>\n",
       "    <tr>\n",
       "      <td>2</td>\n",
       "      <td>931606</td>\n",
       "      <td>thumb</td>\n",
       "      <td>1997.0</td>\n",
       "      <td>ford</td>\n",
       "      <td>f 250 2 wheel dr pickup</td>\n",
       "      <td>fair</td>\n",
       "      <td>NaN</td>\n",
       "      <td>gas</td>\n",
       "      <td>NaN</td>\n",
       "      <td>clean</td>\n",
       "      <td>...</td>\n",
       "      <td>white</td>\n",
       "      <td>43.483300</td>\n",
       "      <td>-83.383500</td>\n",
       "      <td>26157.0</td>\n",
       "      <td>Tuscola</td>\n",
       "      <td>26.0</td>\n",
       "      <td>MI</td>\n",
       "      <td>Michigan</td>\n",
       "      <td>45.0</td>\n",
       "      <td>1800</td>\n",
       "    </tr>\n",
       "    <tr>\n",
       "      <td>3</td>\n",
       "      <td>1265412</td>\n",
       "      <td>laredo</td>\n",
       "      <td>2003.0</td>\n",
       "      <td>ram</td>\n",
       "      <td>NaN</td>\n",
       "      <td>NaN</td>\n",
       "      <td>8 cylinders</td>\n",
       "      <td>gas</td>\n",
       "      <td>NaN</td>\n",
       "      <td>clean</td>\n",
       "      <td>...</td>\n",
       "      <td>NaN</td>\n",
       "      <td>27.850069</td>\n",
       "      <td>-99.668883</td>\n",
       "      <td>48479.0</td>\n",
       "      <td>Webb</td>\n",
       "      <td>48.0</td>\n",
       "      <td>TX</td>\n",
       "      <td>Texas</td>\n",
       "      <td>67.0</td>\n",
       "      <td>4500</td>\n",
       "    </tr>\n",
       "    <tr>\n",
       "      <td>4</td>\n",
       "      <td>1133731</td>\n",
       "      <td>ocala</td>\n",
       "      <td>2000.0</td>\n",
       "      <td>dodge</td>\n",
       "      <td>1500</td>\n",
       "      <td>NaN</td>\n",
       "      <td>NaN</td>\n",
       "      <td>gas</td>\n",
       "      <td>NaN</td>\n",
       "      <td>clean</td>\n",
       "      <td>...</td>\n",
       "      <td>NaN</td>\n",
       "      <td>29.165000</td>\n",
       "      <td>-81.539900</td>\n",
       "      <td>12069.0</td>\n",
       "      <td>Lake</td>\n",
       "      <td>12.0</td>\n",
       "      <td>FL</td>\n",
       "      <td>Florida</td>\n",
       "      <td>65.0</td>\n",
       "      <td>1400</td>\n",
       "    </tr>\n",
       "    <tr>\n",
       "      <td>...</td>\n",
       "      <td>...</td>\n",
       "      <td>...</td>\n",
       "      <td>...</td>\n",
       "      <td>...</td>\n",
       "      <td>...</td>\n",
       "      <td>...</td>\n",
       "      <td>...</td>\n",
       "      <td>...</td>\n",
       "      <td>...</td>\n",
       "      <td>...</td>\n",
       "      <td>...</td>\n",
       "      <td>...</td>\n",
       "      <td>...</td>\n",
       "      <td>...</td>\n",
       "      <td>...</td>\n",
       "      <td>...</td>\n",
       "      <td>...</td>\n",
       "      <td>...</td>\n",
       "      <td>...</td>\n",
       "      <td>...</td>\n",
       "      <td>...</td>\n",
       "    </tr>\n",
       "    <tr>\n",
       "      <td>469987</td>\n",
       "      <td>1505912</td>\n",
       "      <td>olympic</td>\n",
       "      <td>2005.0</td>\n",
       "      <td>ford</td>\n",
       "      <td>f-350 super duty</td>\n",
       "      <td>NaN</td>\n",
       "      <td>NaN</td>\n",
       "      <td>diesel</td>\n",
       "      <td>238047.0</td>\n",
       "      <td>clean</td>\n",
       "      <td>...</td>\n",
       "      <td>black</td>\n",
       "      <td>48.077990</td>\n",
       "      <td>-123.159590</td>\n",
       "      <td>53009.0</td>\n",
       "      <td>Clallam</td>\n",
       "      <td>53.0</td>\n",
       "      <td>WA</td>\n",
       "      <td>Washington</td>\n",
       "      <td>50.0</td>\n",
       "      <td>14990</td>\n",
       "    </tr>\n",
       "    <tr>\n",
       "      <td>469988</td>\n",
       "      <td>1436810</td>\n",
       "      <td>peoria</td>\n",
       "      <td>2016.0</td>\n",
       "      <td>hyundai</td>\n",
       "      <td>accent</td>\n",
       "      <td>excellent</td>\n",
       "      <td>other</td>\n",
       "      <td>gas</td>\n",
       "      <td>40516.0</td>\n",
       "      <td>clean</td>\n",
       "      <td>...</td>\n",
       "      <td>NaN</td>\n",
       "      <td>42.278560</td>\n",
       "      <td>-88.031417</td>\n",
       "      <td>17097.0</td>\n",
       "      <td>Lake</td>\n",
       "      <td>17.0</td>\n",
       "      <td>IL</td>\n",
       "      <td>Illinois</td>\n",
       "      <td>48.0</td>\n",
       "      <td>12375</td>\n",
       "    </tr>\n",
       "    <tr>\n",
       "      <td>469989</td>\n",
       "      <td>170772</td>\n",
       "      <td>huntsville</td>\n",
       "      <td>2016.0</td>\n",
       "      <td>gmc</td>\n",
       "      <td>sierra 3500hd</td>\n",
       "      <td>excellent</td>\n",
       "      <td>8 cylinders</td>\n",
       "      <td>diesel</td>\n",
       "      <td>151763.0</td>\n",
       "      <td>clean</td>\n",
       "      <td>...</td>\n",
       "      <td>blue</td>\n",
       "      <td>34.683630</td>\n",
       "      <td>-86.577461</td>\n",
       "      <td>1089.0</td>\n",
       "      <td>Madison</td>\n",
       "      <td>1.0</td>\n",
       "      <td>AL</td>\n",
       "      <td>Alabama</td>\n",
       "      <td>61.0</td>\n",
       "      <td>40995</td>\n",
       "    </tr>\n",
       "    <tr>\n",
       "      <td>469990</td>\n",
       "      <td>1649643</td>\n",
       "      <td>greenbay</td>\n",
       "      <td>2016.0</td>\n",
       "      <td>hyundai</td>\n",
       "      <td>santa fe sport</td>\n",
       "      <td>excellent</td>\n",
       "      <td>4 cylinders</td>\n",
       "      <td>gas</td>\n",
       "      <td>35028.0</td>\n",
       "      <td>clean</td>\n",
       "      <td>...</td>\n",
       "      <td>white</td>\n",
       "      <td>43.758910</td>\n",
       "      <td>-87.753580</td>\n",
       "      <td>55117.0</td>\n",
       "      <td>Sheboygan</td>\n",
       "      <td>55.0</td>\n",
       "      <td>WI</td>\n",
       "      <td>Wisconsin</td>\n",
       "      <td>45.0</td>\n",
       "      <td>14499</td>\n",
       "    </tr>\n",
       "    <tr>\n",
       "      <td>469991</td>\n",
       "      <td>882889</td>\n",
       "      <td>detroit</td>\n",
       "      <td>2013.0</td>\n",
       "      <td>chrysler</td>\n",
       "      <td>town country</td>\n",
       "      <td>good</td>\n",
       "      <td>NaN</td>\n",
       "      <td>gas</td>\n",
       "      <td>76662.0</td>\n",
       "      <td>clean</td>\n",
       "      <td>...</td>\n",
       "      <td>black</td>\n",
       "      <td>42.439874</td>\n",
       "      <td>-83.102712</td>\n",
       "      <td>26163.0</td>\n",
       "      <td>Wayne</td>\n",
       "      <td>26.0</td>\n",
       "      <td>MI</td>\n",
       "      <td>Michigan</td>\n",
       "      <td>45.0</td>\n",
       "      <td>13995</td>\n",
       "    </tr>\n",
       "  </tbody>\n",
       "</table>\n",
       "<p>469992 rows × 24 columns</p>\n",
       "</div>"
      ],
      "text/plain": [
       "             Id        city    year manufacturer                     make  \\\n",
       "0        559327   baltimore  2006.0          NaN                 Scion tc   \n",
       "1       1429566  carbondale  2018.0        dodge              charger sxt   \n",
       "2        931606       thumb  1997.0         ford  f 250 2 wheel dr pickup   \n",
       "3       1265412      laredo  2003.0          ram                      NaN   \n",
       "4       1133731       ocala  2000.0        dodge                     1500   \n",
       "...         ...         ...     ...          ...                      ...   \n",
       "469987  1505912     olympic  2005.0         ford         f-350 super duty   \n",
       "469988  1436810      peoria  2016.0      hyundai                   accent   \n",
       "469989   170772  huntsville  2016.0          gmc            sierra 3500hd   \n",
       "469990  1649643    greenbay  2016.0      hyundai           santa fe sport   \n",
       "469991   882889     detroit  2013.0     chrysler             town country   \n",
       "\n",
       "        condition    cylinders    fuel  odometer title_status  ...  \\\n",
       "0       excellent  4 cylinders     gas  190000.0        clean  ...   \n",
       "1             NaN          NaN     gas       NaN        clean  ...   \n",
       "2            fair          NaN     gas       NaN        clean  ...   \n",
       "3             NaN  8 cylinders     gas       NaN        clean  ...   \n",
       "4             NaN          NaN     gas       NaN        clean  ...   \n",
       "...           ...          ...     ...       ...          ...  ...   \n",
       "469987        NaN          NaN  diesel  238047.0        clean  ...   \n",
       "469988  excellent        other     gas   40516.0        clean  ...   \n",
       "469989  excellent  8 cylinders  diesel  151763.0        clean  ...   \n",
       "469990  excellent  4 cylinders     gas   35028.0        clean  ...   \n",
       "469991       good          NaN     gas   76662.0        clean  ...   \n",
       "\n",
       "       paint_color        lat        long county_fips     county_name  \\\n",
       "0             blue  39.287000  -76.647600     24510.0  Baltimore City   \n",
       "1              NaN  37.720000  -89.215800     17077.0         Jackson   \n",
       "2            white  43.483300  -83.383500     26157.0         Tuscola   \n",
       "3              NaN  27.850069  -99.668883     48479.0            Webb   \n",
       "4              NaN  29.165000  -81.539900     12069.0            Lake   \n",
       "...            ...        ...         ...         ...             ...   \n",
       "469987       black  48.077990 -123.159590     53009.0         Clallam   \n",
       "469988         NaN  42.278560  -88.031417     17097.0            Lake   \n",
       "469989        blue  34.683630  -86.577461      1089.0         Madison   \n",
       "469990       white  43.758910  -87.753580     55117.0       Sheboygan   \n",
       "469991       black  42.439874  -83.102712     26163.0           Wayne   \n",
       "\n",
       "        state_fips  state_code  state_name weather  price  \n",
       "0             24.0          MD    Maryland    56.0   3200  \n",
       "1             17.0          IL    Illinois    48.0  30620  \n",
       "2             26.0          MI    Michigan    45.0   1800  \n",
       "3             48.0          TX       Texas    67.0   4500  \n",
       "4             12.0          FL     Florida    65.0   1400  \n",
       "...            ...         ...         ...     ...    ...  \n",
       "469987        53.0          WA  Washington    50.0  14990  \n",
       "469988        17.0          IL    Illinois    48.0  12375  \n",
       "469989         1.0          AL     Alabama    61.0  40995  \n",
       "469990        55.0          WI   Wisconsin    45.0  14499  \n",
       "469991        26.0          MI    Michigan    45.0  13995  \n",
       "\n",
       "[469992 rows x 24 columns]"
      ]
     },
     "execution_count": 24,
     "metadata": {},
     "output_type": "execute_result"
    }
   ],
   "source": [
    "train"
   ]
  },
  {
   "cell_type": "code",
   "execution_count": 6,
   "metadata": {},
   "outputs": [
    {
     "data": {
      "text/plain": [
       "Id                   0\n",
       "city                 0\n",
       "year              1713\n",
       "manufacturer     37260\n",
       "make             19078\n",
       "condition       191021\n",
       "cylinders       188076\n",
       "fuel              2844\n",
       "odometer        153465\n",
       "title_status       708\n",
       "transmission      2447\n",
       "drive           180334\n",
       "size            306775\n",
       "type            191640\n",
       "paint_color     189613\n",
       "lat                  0\n",
       "long                 0\n",
       "county_fips      16009\n",
       "county_name      16009\n",
       "state_fips       16009\n",
       "state_code       16009\n",
       "state_name           0\n",
       "weather          16182\n",
       "price                0\n",
       "dtype: int64"
      ]
     },
     "execution_count": 6,
     "metadata": {},
     "output_type": "execute_result"
    }
   ],
   "source": [
    "train.isnull().sum()"
   ]
  },
  {
   "cell_type": "code",
   "execution_count": 13,
   "metadata": {},
   "outputs": [
    {
     "data": {
      "text/plain": [
       "excellent    120909\n",
       "good         103297\n",
       "like new      30469\n",
       "fair          20214\n",
       "new            2437\n",
       "salvage        1645\n",
       "Name: condition, dtype: int64"
      ]
     },
     "execution_count": 13,
     "metadata": {},
     "output_type": "execute_result"
    }
   ],
   "source": [
    "train.condition.value_counts()"
   ]
  },
  {
   "cell_type": "code",
   "execution_count": 18,
   "metadata": {},
   "outputs": [
    {
     "data": {
      "text/plain": [
       "4wd    121087\n",
       "fwd    101308\n",
       "rwd     67263\n",
       "Name: drive, dtype: int64"
      ]
     },
     "execution_count": 18,
     "metadata": {},
     "output_type": "execute_result"
    }
   ],
   "source": [
    "train.drive.value_counts()"
   ]
  },
  {
   "cell_type": "code",
   "execution_count": null,
   "metadata": {},
   "outputs": [],
   "source": []
  },
  {
   "cell_type": "code",
   "execution_count": 36,
   "metadata": {},
   "outputs": [
    {
     "data": {
      "text/plain": [
       "white     62659\n",
       "black     54608\n",
       "silver    40497\n",
       "blue      31686\n",
       "red       31290\n",
       "grey      27270\n",
       "green     11810\n",
       "brown      7307\n",
       "custom     7151\n",
       "yellow     3038\n",
       "orange     1984\n",
       "purple     1079\n",
       "Name: paint_color, dtype: int64"
      ]
     },
     "execution_count": 36,
     "metadata": {},
     "output_type": "execute_result"
    }
   ],
   "source": [
    "train.paint_color.value_counts()"
   ]
  },
  {
   "cell_type": "code",
   "execution_count": null,
   "metadata": {},
   "outputs": [],
   "source": []
  },
  {
   "cell_type": "code",
   "execution_count": 41,
   "metadata": {},
   "outputs": [],
   "source": [
    "grouped_color = train.groupby('paint_color')"
   ]
  },
  {
   "cell_type": "code",
   "execution_count": 52,
   "metadata": {},
   "outputs": [
    {
     "data": {
      "text/plain": [
       "<matplotlib.axes._subplots.AxesSubplot at 0x7ffd9043e080>"
      ]
     },
     "execution_count": 52,
     "metadata": {},
     "output_type": "execute_result"
    },
    {
     "data": {
      "image/png": "[encoded data removed]",
      "text/plain": [
       "<Figure size 432x288 with 1 Axes>"
      ]
     },
     "metadata": {
      "needs_background": "light"
     },
     "output_type": "display_data"
    }
   ],
   "source": [
    "%matplotlib inline\n",
    "\n",
    "grouped_color.price.mean().plot()"
   ]
  },
  {
   "cell_type": "code",
   "execution_count": 53,
   "metadata": {},
   "outputs": [],
   "source": [
    "grouped_state = train.groupby('state_name')"
   ]
  },
  {
   "cell_type": "code",
   "execution_count": 56,
   "metadata": {},
   "outputs": [
    {
     "data": {
      "text/plain": [
       "<matplotlib.axes._subplots.AxesSubplot at 0x7ffd9041b080>"
      ]
     },
     "execution_count": 56,
     "metadata": {},
     "output_type": "execute_result"
    },
    {
     "data": {
      "image/png": "[encoded data removed]",
      "text/plain": [
       "<Figure size 432x288 with 1 Axes>"
      ]
     },
     "metadata": {
      "needs_background": "light"
     },
     "output_type": "display_data"
    }
   ],
   "source": [
    "grouped_state.price.mean().plot()"
   ]
  },
  {
   "cell_type": "code",
   "execution_count": 69,
   "metadata": {},
   "outputs": [],
   "source": [
    "train_filter = train [[\"Id\",\"year\", \"condition\", \"odometer\", \"type\", \"manufacturer\", \"cylinders\", \"fuel\", \"transmission\", \"drive\", \"paint_color\", \"state_name\", \"price\"]]"
   ]
  },
  {
   "cell_type": "code",
   "execution_count": 73,
   "metadata": {},
   "outputs": [
    {
     "data": {
      "text/plain": [
       "Id                   0\n",
       "year              1713\n",
       "condition       191021\n",
       "odometer        153465\n",
       "type            191640\n",
       "manufacturer     37260\n",
       "cylinders       188076\n",
       "fuel              2844\n",
       "transmission      2447\n",
       "drive           180334\n",
       "paint_color     189613\n",
       "state_name           0\n",
       "price                0\n",
       "dtype: int64"
      ]
     },
     "execution_count": 73,
     "metadata": {},
     "output_type": "execute_result"
    }
   ],
   "source": [
    "train_filter.isnull().sum()"
   ]
  },
  {
   "cell_type": "code",
   "execution_count": null,
   "metadata": {},
   "outputs": [],
   "source": []
  },
  {
   "cell_type": "code",
   "execution_count": 82,
   "metadata": {},
   "outputs": [],
   "source": [
    "df_drop = train_filter[train_filter['type'].notnull()]"
   ]
  },
  {
   "cell_type": "code",
   "execution_count": 83,
   "metadata": {},
   "outputs": [
    {
     "data": {
      "text/html": [
       "<div>\n",
       "<style scoped>\n",
       "    .dataframe tbody tr th:only-of-type {\n",
       "        vertical-align: middle;\n",
       "    }\n",
       "\n",
       "    .dataframe tbody tr th {\n",
       "        vertical-align: top;\n",
       "    }\n",
       "\n",
       "    .dataframe thead th {\n",
       "        text-align: right;\n",
       "    }\n",
       "</style>\n",
       "<table border=\"1\" class=\"dataframe\">\n",
       "  <thead>\n",
       "    <tr style=\"text-align: right;\">\n",
       "      <th></th>\n",
       "      <th>Id</th>\n",
       "      <th>year</th>\n",
       "      <th>condition</th>\n",
       "      <th>odometer</th>\n",
       "      <th>type</th>\n",
       "      <th>manufacturer</th>\n",
       "      <th>cylinders</th>\n",
       "      <th>fuel</th>\n",
       "      <th>transmission</th>\n",
       "      <th>drive</th>\n",
       "      <th>paint_color</th>\n",
       "      <th>state_name</th>\n",
       "      <th>price</th>\n",
       "    </tr>\n",
       "  </thead>\n",
       "  <tbody>\n",
       "    <tr>\n",
       "      <td>2</td>\n",
       "      <td>931606</td>\n",
       "      <td>1997.0</td>\n",
       "      <td>fair</td>\n",
       "      <td>NaN</td>\n",
       "      <td>pickup</td>\n",
       "      <td>ford</td>\n",
       "      <td>NaN</td>\n",
       "      <td>gas</td>\n",
       "      <td>automatic</td>\n",
       "      <td>NaN</td>\n",
       "      <td>white</td>\n",
       "      <td>Michigan</td>\n",
       "      <td>1800</td>\n",
       "    </tr>\n",
       "    <tr>\n",
       "      <td>5</td>\n",
       "      <td>869261</td>\n",
       "      <td>2005.0</td>\n",
       "      <td>excellent</td>\n",
       "      <td>308000.0</td>\n",
       "      <td>sedan</td>\n",
       "      <td>toyota</td>\n",
       "      <td>6 cylinders</td>\n",
       "      <td>gas</td>\n",
       "      <td>automatic</td>\n",
       "      <td>fwd</td>\n",
       "      <td>red</td>\n",
       "      <td>Michigan</td>\n",
       "      <td>2800</td>\n",
       "    </tr>\n",
       "    <tr>\n",
       "      <td>6</td>\n",
       "      <td>229951</td>\n",
       "      <td>2018.0</td>\n",
       "      <td>like new</td>\n",
       "      <td>38.0</td>\n",
       "      <td>truck</td>\n",
       "      <td>ford</td>\n",
       "      <td>6 cylinders</td>\n",
       "      <td>gas</td>\n",
       "      <td>automatic</td>\n",
       "      <td>rwd</td>\n",
       "      <td>grey</td>\n",
       "      <td>FAILED</td>\n",
       "      <td>34899</td>\n",
       "    </tr>\n",
       "    <tr>\n",
       "      <td>7</td>\n",
       "      <td>1299110</td>\n",
       "      <td>1999.0</td>\n",
       "      <td>excellent</td>\n",
       "      <td>NaN</td>\n",
       "      <td>other</td>\n",
       "      <td>lincoln</td>\n",
       "      <td>6 cylinders</td>\n",
       "      <td>gas</td>\n",
       "      <td>automatic</td>\n",
       "      <td>NaN</td>\n",
       "      <td>white</td>\n",
       "      <td>Texas</td>\n",
       "      <td>1200</td>\n",
       "    </tr>\n",
       "    <tr>\n",
       "      <td>8</td>\n",
       "      <td>1203620</td>\n",
       "      <td>2006.0</td>\n",
       "      <td>NaN</td>\n",
       "      <td>208270.0</td>\n",
       "      <td>truck</td>\n",
       "      <td>ram</td>\n",
       "      <td>6 cylinders</td>\n",
       "      <td>diesel</td>\n",
       "      <td>automatic</td>\n",
       "      <td>4wd</td>\n",
       "      <td>red</td>\n",
       "      <td>Montana</td>\n",
       "      <td>15995</td>\n",
       "    </tr>\n",
       "    <tr>\n",
       "      <td>...</td>\n",
       "      <td>...</td>\n",
       "      <td>...</td>\n",
       "      <td>...</td>\n",
       "      <td>...</td>\n",
       "      <td>...</td>\n",
       "      <td>...</td>\n",
       "      <td>...</td>\n",
       "      <td>...</td>\n",
       "      <td>...</td>\n",
       "      <td>...</td>\n",
       "      <td>...</td>\n",
       "      <td>...</td>\n",
       "      <td>...</td>\n",
       "    </tr>\n",
       "    <tr>\n",
       "      <td>469987</td>\n",
       "      <td>1505912</td>\n",
       "      <td>2005.0</td>\n",
       "      <td>NaN</td>\n",
       "      <td>238047.0</td>\n",
       "      <td>truck</td>\n",
       "      <td>ford</td>\n",
       "      <td>NaN</td>\n",
       "      <td>diesel</td>\n",
       "      <td>automatic</td>\n",
       "      <td>4wd</td>\n",
       "      <td>black</td>\n",
       "      <td>Washington</td>\n",
       "      <td>14990</td>\n",
       "    </tr>\n",
       "    <tr>\n",
       "      <td>469988</td>\n",
       "      <td>1436810</td>\n",
       "      <td>2016.0</td>\n",
       "      <td>excellent</td>\n",
       "      <td>40516.0</td>\n",
       "      <td>hatchback</td>\n",
       "      <td>hyundai</td>\n",
       "      <td>other</td>\n",
       "      <td>gas</td>\n",
       "      <td>automatic</td>\n",
       "      <td>fwd</td>\n",
       "      <td>NaN</td>\n",
       "      <td>Illinois</td>\n",
       "      <td>12375</td>\n",
       "    </tr>\n",
       "    <tr>\n",
       "      <td>469989</td>\n",
       "      <td>170772</td>\n",
       "      <td>2016.0</td>\n",
       "      <td>excellent</td>\n",
       "      <td>151763.0</td>\n",
       "      <td>truck</td>\n",
       "      <td>gmc</td>\n",
       "      <td>8 cylinders</td>\n",
       "      <td>diesel</td>\n",
       "      <td>automatic</td>\n",
       "      <td>4wd</td>\n",
       "      <td>blue</td>\n",
       "      <td>Alabama</td>\n",
       "      <td>40995</td>\n",
       "    </tr>\n",
       "    <tr>\n",
       "      <td>469990</td>\n",
       "      <td>1649643</td>\n",
       "      <td>2016.0</td>\n",
       "      <td>excellent</td>\n",
       "      <td>35028.0</td>\n",
       "      <td>SUV</td>\n",
       "      <td>hyundai</td>\n",
       "      <td>4 cylinders</td>\n",
       "      <td>gas</td>\n",
       "      <td>automatic</td>\n",
       "      <td>fwd</td>\n",
       "      <td>white</td>\n",
       "      <td>Wisconsin</td>\n",
       "      <td>14499</td>\n",
       "    </tr>\n",
       "    <tr>\n",
       "      <td>469991</td>\n",
       "      <td>882889</td>\n",
       "      <td>2013.0</td>\n",
       "      <td>good</td>\n",
       "      <td>76662.0</td>\n",
       "      <td>van</td>\n",
       "      <td>chrysler</td>\n",
       "      <td>NaN</td>\n",
       "      <td>gas</td>\n",
       "      <td>automatic</td>\n",
       "      <td>fwd</td>\n",
       "      <td>black</td>\n",
       "      <td>Michigan</td>\n",
       "      <td>13995</td>\n",
       "    </tr>\n",
       "  </tbody>\n",
       "</table>\n",
       "<p>278352 rows × 13 columns</p>\n",
       "</div>"
      ],
      "text/plain": [
       "             Id    year  condition  odometer       type manufacturer  \\\n",
       "2        931606  1997.0       fair       NaN     pickup         ford   \n",
       "5        869261  2005.0  excellent  308000.0      sedan       toyota   \n",
       "6        229951  2018.0   like new      38.0      truck         ford   \n",
       "7       1299110  1999.0  excellent       NaN      other      lincoln   \n",
       "8       1203620  2006.0        NaN  208270.0      truck          ram   \n",
       "...         ...     ...        ...       ...        ...          ...   \n",
       "469987  1505912  2005.0        NaN  238047.0      truck         ford   \n",
       "469988  1436810  2016.0  excellent   40516.0  hatchback      hyundai   \n",
       "469989   170772  2016.0  excellent  151763.0      truck          gmc   \n",
       "469990  1649643  2016.0  excellent   35028.0        SUV      hyundai   \n",
       "469991   882889  2013.0       good   76662.0        van     chrysler   \n",
       "\n",
       "          cylinders    fuel transmission drive paint_color  state_name  price  \n",
       "2               NaN     gas    automatic   NaN       white    Michigan   1800  \n",
       "5       6 cylinders     gas    automatic   fwd         red    Michigan   2800  \n",
       "6       6 cylinders     gas    automatic   rwd        grey      FAILED  34899  \n",
       "7       6 cylinders     gas    automatic   NaN       white       Texas   1200  \n",
       "8       6 cylinders  diesel    automatic   4wd         red     Montana  15995  \n",
       "...             ...     ...          ...   ...         ...         ...    ...  \n",
       "469987          NaN  diesel    automatic   4wd       black  Washington  14990  \n",
       "469988        other     gas    automatic   fwd         NaN    Illinois  12375  \n",
       "469989  8 cylinders  diesel    automatic   4wd        blue     Alabama  40995  \n",
       "469990  4 cylinders     gas    automatic   fwd       white   Wisconsin  14499  \n",
       "469991          NaN     gas    automatic   fwd       black    Michigan  13995  \n",
       "\n",
       "[278352 rows x 13 columns]"
      ]
     },
     "execution_count": 83,
     "metadata": {},
     "output_type": "execute_result"
    }
   ],
   "source": [
    "df_drop"
   ]
  },
  {
   "cell_type": "code",
   "execution_count": 84,
   "metadata": {},
   "outputs": [
    {
     "data": {
      "text/plain": [
       "Id                  0\n",
       "year             1216\n",
       "condition       65605\n",
       "odometer        44260\n",
       "type                0\n",
       "manufacturer    16468\n",
       "cylinders       54549\n",
       "fuel             1695\n",
       "transmission     1950\n",
       "drive           38321\n",
       "paint_color     40818\n",
       "state_name          0\n",
       "price               0\n",
       "dtype: int64"
      ]
     },
     "execution_count": 84,
     "metadata": {},
     "output_type": "execute_result"
    }
   ],
   "source": [
    "df_drop.isnull().sum()"
   ]
  },
  {
   "cell_type": "code",
   "execution_count": null,
   "metadata": {},
   "outputs": [],
   "source": []
  },
  {
   "cell_type": "code",
   "execution_count": 101,
   "metadata": {},
   "outputs": [],
   "source": [
    "mean_odometer= df_drop.odometer.mean()"
   ]
  },
  {
   "cell_type": "code",
   "execution_count": 102,
   "metadata": {},
   "outputs": [],
   "source": [
    "df_drop['odometer'] = df_drop['odometer'].fillna(mean_odometer)"
   ]
  },
  {
   "cell_type": "code",
   "execution_count": 105,
   "metadata": {},
   "outputs": [],
   "source": [
    "df_drop['condition'] = df_drop['condition'].fillna(\"otro\")"
   ]
  },
  {
   "cell_type": "code",
   "execution_count": null,
   "metadata": {},
   "outputs": [],
   "source": []
  },
  {
   "cell_type": "code",
   "execution_count": null,
   "metadata": {},
   "outputs": [],
   "source": []
  },
  {
   "cell_type": "code",
   "execution_count": null,
   "metadata": {},
   "outputs": [],
   "source": []
  },
  {
   "cell_type": "code",
   "execution_count": 106,
   "metadata": {},
   "outputs": [
    {
     "data": {
      "text/plain": [
       "Id                  0\n",
       "year             1216\n",
       "condition           0\n",
       "odometer            0\n",
       "type                0\n",
       "manufacturer    16468\n",
       "cylinders       54549\n",
       "fuel             1695\n",
       "transmission     1950\n",
       "drive           38321\n",
       "paint_color     40818\n",
       "state_name          0\n",
       "price               0\n",
       "dtype: int64"
      ]
     },
     "execution_count": 106,
     "metadata": {},
     "output_type": "execute_result"
    }
   ],
   "source": [
    "df_drop.isnull().sum()"
   ]
  },
  {
   "cell_type": "code",
   "execution_count": null,
   "metadata": {},
   "outputs": [],
   "source": []
  }
 ],
 "metadata": {
  "kernelspec": {
   "display_name": "Python 3",
   "language": "python",
   "name": "python3"
  },
  "language_info": {
   "codemirror_mode": {
    "name": "ipython",
    "version": 3
   },
   "file_extension": ".py",
   "mimetype": "text/x-python",
   "name": "python",
   "nbconvert_exporter": "python",
   "pygments_lexer": "ipython3",
   "version": "3.6.8"
  }
 },
 "nbformat": 4,
 "nbformat_minor": 2
}
