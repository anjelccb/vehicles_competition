{
 "cells": [
  {
   "cell_type": "code",
   "execution_count": 1,
   "metadata": {},
   "outputs": [],
   "source": [
    "import pandas as pd\n",
    "import numpy as np"
   ]
  },
  {
   "cell_type": "code",
   "execution_count": 20,
   "metadata": {},
   "outputs": [],
   "source": [
    "cars_test = pd.read_csv(\"cars_test.csv.zip\")\n",
    "cars_train = pd.read_csv(\"cars_train.csv.zip\")"
   ]
  },
  {
   "cell_type": "code",
   "execution_count": 23,
   "metadata": {},
   "outputs": [
    {
     "data": {
      "text/plain": [
       "(253073, 23)"
      ]
     },
     "execution_count": 23,
     "metadata": {},
     "output_type": "execute_result"
    }
   ],
   "source": [
    "cars_test.shape"
   ]
  },
  {
   "cell_type": "code",
   "execution_count": 24,
   "metadata": {},
   "outputs": [
    {
     "data": {
      "text/plain": [
       "(469992, 24)"
      ]
     },
     "execution_count": 24,
     "metadata": {},
     "output_type": "execute_result"
    }
   ],
   "source": [
    "cars_train.shape"
   ]
  },
  {
   "cell_type": "code",
   "execution_count": 25,
   "metadata": {},
   "outputs": [
    {
     "data": {
      "text/html": [
       "<div>\n",
       "<style scoped>\n",
       "    .dataframe tbody tr th:only-of-type {\n",
       "        vertical-align: middle;\n",
       "    }\n",
       "\n",
       "    .dataframe tbody tr th {\n",
       "        vertical-align: top;\n",
       "    }\n",
       "\n",
       "    .dataframe thead th {\n",
       "        text-align: right;\n",
       "    }\n",
       "</style>\n",
       "<table border=\"1\" class=\"dataframe\">\n",
       "  <thead>\n",
       "    <tr style=\"text-align: right;\">\n",
       "      <th></th>\n",
       "      <th>Id</th>\n",
       "      <th>city</th>\n",
       "      <th>year</th>\n",
       "      <th>manufacturer</th>\n",
       "      <th>make</th>\n",
       "      <th>condition</th>\n",
       "      <th>cylinders</th>\n",
       "      <th>fuel</th>\n",
       "      <th>odometer</th>\n",
       "      <th>title_status</th>\n",
       "      <th>...</th>\n",
       "      <th>paint_color</th>\n",
       "      <th>lat</th>\n",
       "      <th>long</th>\n",
       "      <th>county_fips</th>\n",
       "      <th>county_name</th>\n",
       "      <th>state_fips</th>\n",
       "      <th>state_code</th>\n",
       "      <th>state_name</th>\n",
       "      <th>weather</th>\n",
       "      <th>price</th>\n",
       "    </tr>\n",
       "  </thead>\n",
       "  <tbody>\n",
       "    <tr>\n",
       "      <td>0</td>\n",
       "      <td>559327</td>\n",
       "      <td>baltimore</td>\n",
       "      <td>2006.0</td>\n",
       "      <td>NaN</td>\n",
       "      <td>Scion tc</td>\n",
       "      <td>excellent</td>\n",
       "      <td>4 cylinders</td>\n",
       "      <td>gas</td>\n",
       "      <td>190000.0</td>\n",
       "      <td>clean</td>\n",
       "      <td>...</td>\n",
       "      <td>blue</td>\n",
       "      <td>39.287000</td>\n",
       "      <td>-76.647600</td>\n",
       "      <td>24510.0</td>\n",
       "      <td>Baltimore City</td>\n",
       "      <td>24.0</td>\n",
       "      <td>MD</td>\n",
       "      <td>Maryland</td>\n",
       "      <td>56.0</td>\n",
       "      <td>3200</td>\n",
       "    </tr>\n",
       "    <tr>\n",
       "      <td>1</td>\n",
       "      <td>1429566</td>\n",
       "      <td>carbondale</td>\n",
       "      <td>2018.0</td>\n",
       "      <td>dodge</td>\n",
       "      <td>charger sxt</td>\n",
       "      <td>NaN</td>\n",
       "      <td>NaN</td>\n",
       "      <td>gas</td>\n",
       "      <td>NaN</td>\n",
       "      <td>clean</td>\n",
       "      <td>...</td>\n",
       "      <td>NaN</td>\n",
       "      <td>37.720000</td>\n",
       "      <td>-89.215800</td>\n",
       "      <td>17077.0</td>\n",
       "      <td>Jackson</td>\n",
       "      <td>17.0</td>\n",
       "      <td>IL</td>\n",
       "      <td>Illinois</td>\n",
       "      <td>48.0</td>\n",
       "      <td>30620</td>\n",
       "    </tr>\n",
       "    <tr>\n",
       "      <td>2</td>\n",
       "      <td>931606</td>\n",
       "      <td>thumb</td>\n",
       "      <td>1997.0</td>\n",
       "      <td>ford</td>\n",
       "      <td>f 250 2 wheel dr pickup</td>\n",
       "      <td>fair</td>\n",
       "      <td>NaN</td>\n",
       "      <td>gas</td>\n",
       "      <td>NaN</td>\n",
       "      <td>clean</td>\n",
       "      <td>...</td>\n",
       "      <td>white</td>\n",
       "      <td>43.483300</td>\n",
       "      <td>-83.383500</td>\n",
       "      <td>26157.0</td>\n",
       "      <td>Tuscola</td>\n",
       "      <td>26.0</td>\n",
       "      <td>MI</td>\n",
       "      <td>Michigan</td>\n",
       "      <td>45.0</td>\n",
       "      <td>1800</td>\n",
       "    </tr>\n",
       "    <tr>\n",
       "      <td>3</td>\n",
       "      <td>1265412</td>\n",
       "      <td>laredo</td>\n",
       "      <td>2003.0</td>\n",
       "      <td>ram</td>\n",
       "      <td>NaN</td>\n",
       "      <td>NaN</td>\n",
       "      <td>8 cylinders</td>\n",
       "      <td>gas</td>\n",
       "      <td>NaN</td>\n",
       "      <td>clean</td>\n",
       "      <td>...</td>\n",
       "      <td>NaN</td>\n",
       "      <td>27.850069</td>\n",
       "      <td>-99.668883</td>\n",
       "      <td>48479.0</td>\n",
       "      <td>Webb</td>\n",
       "      <td>48.0</td>\n",
       "      <td>TX</td>\n",
       "      <td>Texas</td>\n",
       "      <td>67.0</td>\n",
       "      <td>4500</td>\n",
       "    </tr>\n",
       "    <tr>\n",
       "      <td>4</td>\n",
       "      <td>1133731</td>\n",
       "      <td>ocala</td>\n",
       "      <td>2000.0</td>\n",
       "      <td>dodge</td>\n",
       "      <td>1500</td>\n",
       "      <td>NaN</td>\n",
       "      <td>NaN</td>\n",
       "      <td>gas</td>\n",
       "      <td>NaN</td>\n",
       "      <td>clean</td>\n",
       "      <td>...</td>\n",
       "      <td>NaN</td>\n",
       "      <td>29.165000</td>\n",
       "      <td>-81.539900</td>\n",
       "      <td>12069.0</td>\n",
       "      <td>Lake</td>\n",
       "      <td>12.0</td>\n",
       "      <td>FL</td>\n",
       "      <td>Florida</td>\n",
       "      <td>65.0</td>\n",
       "      <td>1400</td>\n",
       "    </tr>\n",
       "  </tbody>\n",
       "</table>\n",
       "<p>5 rows × 24 columns</p>\n",
       "</div>"
      ],
      "text/plain": [
       "        Id        city    year manufacturer                     make  \\\n",
       "0   559327   baltimore  2006.0          NaN                 Scion tc   \n",
       "1  1429566  carbondale  2018.0        dodge              charger sxt   \n",
       "2   931606       thumb  1997.0         ford  f 250 2 wheel dr pickup   \n",
       "3  1265412      laredo  2003.0          ram                      NaN   \n",
       "4  1133731       ocala  2000.0        dodge                     1500   \n",
       "\n",
       "   condition    cylinders fuel  odometer title_status  ... paint_color  \\\n",
       "0  excellent  4 cylinders  gas  190000.0        clean  ...        blue   \n",
       "1        NaN          NaN  gas       NaN        clean  ...         NaN   \n",
       "2       fair          NaN  gas       NaN        clean  ...       white   \n",
       "3        NaN  8 cylinders  gas       NaN        clean  ...         NaN   \n",
       "4        NaN          NaN  gas       NaN        clean  ...         NaN   \n",
       "\n",
       "         lat       long county_fips     county_name  state_fips  state_code  \\\n",
       "0  39.287000 -76.647600     24510.0  Baltimore City        24.0          MD   \n",
       "1  37.720000 -89.215800     17077.0         Jackson        17.0          IL   \n",
       "2  43.483300 -83.383500     26157.0         Tuscola        26.0          MI   \n",
       "3  27.850069 -99.668883     48479.0            Webb        48.0          TX   \n",
       "4  29.165000 -81.539900     12069.0            Lake        12.0          FL   \n",
       "\n",
       "   state_name weather  price  \n",
       "0    Maryland    56.0   3200  \n",
       "1    Illinois    48.0  30620  \n",
       "2    Michigan    45.0   1800  \n",
       "3       Texas    67.0   4500  \n",
       "4     Florida    65.0   1400  \n",
       "\n",
       "[5 rows x 24 columns]"
      ]
     },
     "execution_count": 25,
     "metadata": {},
     "output_type": "execute_result"
    }
   ],
   "source": [
    "cars_train.head()"
   ]
  },
  {
   "cell_type": "code",
   "execution_count": 26,
   "metadata": {},
   "outputs": [
    {
     "data": {
      "text/plain": [
       "Id                   0\n",
       "city                 0\n",
       "year              1713\n",
       "manufacturer     37260\n",
       "make             19078\n",
       "condition       191021\n",
       "cylinders       188076\n",
       "fuel              2844\n",
       "odometer        153465\n",
       "title_status       708\n",
       "transmission      2447\n",
       "drive           180334\n",
       "size            306775\n",
       "type            191640\n",
       "paint_color     189613\n",
       "lat                  0\n",
       "long                 0\n",
       "county_fips      16009\n",
       "county_name      16009\n",
       "state_fips       16009\n",
       "state_code       16009\n",
       "state_name           0\n",
       "weather          16182\n",
       "price                0\n",
       "dtype: int64"
      ]
     },
     "execution_count": 26,
     "metadata": {},
     "output_type": "execute_result"
    }
   ],
   "source": [
    "cars_train.isnull().sum()"
   ]
  },
  {
   "cell_type": "code",
   "execution_count": 27,
   "metadata": {},
   "outputs": [
    {
     "data": {
      "text/plain": [
       "excellent    120909\n",
       "good         103297\n",
       "like new      30469\n",
       "fair          20214\n",
       "new            2437\n",
       "salvage        1645\n",
       "Name: condition, dtype: int64"
      ]
     },
     "execution_count": 27,
     "metadata": {},
     "output_type": "execute_result"
    }
   ],
   "source": [
    "cars_train.condition.value_counts()"
   ]
  },
  {
   "cell_type": "code",
   "execution_count": null,
   "metadata": {},
   "outputs": [],
   "source": []
  }
 ],
 "metadata": {
  "kernelspec": {
   "display_name": "Python 3",
   "language": "python",
   "name": "python3"
  },
  "language_info": {
   "codemirror_mode": {
    "name": "ipython",
    "version": 3
   },
   "file_extension": ".py",
   "mimetype": "text/x-python",
   "name": "python",
   "nbconvert_exporter": "python",
   "pygments_lexer": "ipython3",
   "version": "3.6.8"
  }
 },
 "nbformat": 4,
 "nbformat_minor": 2
}
